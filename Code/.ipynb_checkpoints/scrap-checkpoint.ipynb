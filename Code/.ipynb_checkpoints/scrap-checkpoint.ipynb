{
 "metadata": {
  "name": ""
 },
 "nbformat": 3,
 "nbformat_minor": 0,
 "worksheets": [
  {
   "cells": [
    {
     "cell_type": "code",
     "collapsed": false,
     "input": [
      "import os\n",
      "import pandas as pd"
     ],
     "language": "python",
     "metadata": {},
     "outputs": [],
     "prompt_number": 34
    },
    {
     "cell_type": "code",
     "collapsed": false,
     "input": [
      "path = '/home/rox/Documents/Code/GPS Data/'\n",
      "f = '/home/rox/Documents/Code/GPS Data/20140320151334.txt'\n",
      "# os.path.splitext(os.path.basename(file))[0]"
     ],
     "language": "python",
     "metadata": {},
     "outputs": [],
     "prompt_number": 39
    },
    {
     "cell_type": "code",
     "collapsed": false,
     "input": [
      "def findFiles(path,extension):\n",
      "    '''Return a list of all files with matching extension'''\n",
      "    os.chdir(path)\n",
      "    allFiles = os.listdir(\".\")\n",
      "    foundFiles = []\n",
      "    for file in allFiles:\n",
      "        if file.endswith(extension):\n",
      "            foundFiles.append(file)\n",
      "    foundFiles.sort()\n",
      "    return foundFiles"
     ],
     "language": "python",
     "metadata": {},
     "outputs": [],
     "prompt_number": 65
    },
    {
     "cell_type": "code",
     "collapsed": false,
     "input": [
      "def read_gps_file(f):\n",
      "    '''Read a dataframe from a file'''\n",
      "    df = pd.read_csv(f)\n",
      "    df['time'] = pd.to_datetime(df['time'])\n",
      "    return df\n",
      "\n",
      "# def read_gps_folder(path):\n",
      "#     '''Read all data from a folder'''\n",
      "#     files = findFiles(path,'.txt')\n",
      "#     data = {}\n",
      "#     for f in files:\n",
      "#         name = os.path.splitext(os.path.basename(f))[0]\n",
      "#         df = read_gps_file(f)\n",
      "#         data[name] = {'df':df}\n",
      "#     return data\n",
      "\n",
      "def read_gps_folder(path):\n",
      "    '''Read all data from a folder'''\n",
      "    files = findFiles(path,'.txt')\n",
      "    dff = pd.dff(\n",
      "    for f in files:\n",
      "        name = os.path.splitext(os.path.basename(f))[0]\n",
      "        df = read_gps_file(f)\n",
      "        data[name] = {'df':df}\n",
      "    return data\n",
      "    "
     ],
     "language": "python",
     "metadata": {},
     "outputs": [],
     "prompt_number": 77
    },
    {
     "cell_type": "code",
     "collapsed": false,
     "input": [
      "data = read_gps_folder(path)"
     ],
     "language": "python",
     "metadata": {},
     "outputs": [],
     "prompt_number": 78
    },
    {
     "cell_type": "code",
     "collapsed": false,
     "input": [
      "data['20140320151334']['df']['time'][0]"
     ],
     "language": "python",
     "metadata": {},
     "outputs": [
      {
       "metadata": {},
       "output_type": "pyout",
       "prompt_number": 85,
       "text": [
        "Timestamp('2014-03-20 19:13:40', tz=None)"
       ]
      }
     ],
     "prompt_number": 85
    },
    {
     "cell_type": "code",
     "collapsed": false,
     "input": [
      "dff = pd.concat(data['20140320151334']['df']['time'][0]"
     ],
     "language": "python",
     "metadata": {},
     "outputs": []
    },
    {
     "cell_type": "code",
     "collapsed": false,
     "input": [
      "df = read_gps_file(path)"
     ],
     "language": "python",
     "metadata": {},
     "outputs": [],
     "prompt_number": 19
    },
    {
     "cell_type": "code",
     "collapsed": false,
     "input": [
      "df"
     ],
     "language": "python",
     "metadata": {},
     "outputs": [
      {
       "html": [
        "<pre>\n",
        "&lt;class 'pandas.core.frame.DataFrame'&gt;\n",
        "Int64Index: 164 entries, 0 to 163\n",
        "Data columns (total 7 columns):\n",
        "time         164  non-null values\n",
        "lat          164  non-null values\n",
        "lon          164  non-null values\n",
        "elevation    164  non-null values\n",
        "accuracy     164  non-null values\n",
        "bearing      164  non-null values\n",
        "speed        164  non-null values\n",
        "dtypes: datetime64[ns](1), float64(6)\n",
        "</pre>"
       ],
       "metadata": {},
       "output_type": "pyout",
       "prompt_number": 20,
       "text": [
        "<class 'pandas.core.frame.DataFrame'>\n",
        "Int64Index: 164 entries, 0 to 163\n",
        "Data columns (total 7 columns):\n",
        "time         164  non-null values\n",
        "lat          164  non-null values\n",
        "lon          164  non-null values\n",
        "elevation    164  non-null values\n",
        "accuracy     164  non-null values\n",
        "bearing      164  non-null values\n",
        "speed        164  non-null values\n",
        "dtypes: datetime64[ns](1), float64(6)"
       ]
      }
     ],
     "prompt_number": 20
    },
    {
     "cell_type": "code",
     "collapsed": false,
     "input": [
      "df.tail()"
     ],
     "language": "python",
     "metadata": {},
     "outputs": [
      {
       "html": [
        "<div style=\"max-height:1000px;max-width:1500px;overflow:auto;\">\n",
        "<table border=\"1\" class=\"dataframe\">\n",
        "  <thead>\n",
        "    <tr style=\"text-align: right;\">\n",
        "      <th></th>\n",
        "      <th>time</th>\n",
        "      <th>lat</th>\n",
        "      <th>lon</th>\n",
        "      <th>elevation</th>\n",
        "      <th>accuracy</th>\n",
        "      <th>bearing</th>\n",
        "      <th>speed</th>\n",
        "    </tr>\n",
        "  </thead>\n",
        "  <tbody>\n",
        "    <tr>\n",
        "      <th>159</th>\n",
        "      <td>2014-03-20 19:17:43</td>\n",
        "      <td> 33.782348</td>\n",
        "      <td>-84.395602</td>\n",
        "      <td> 289.000000</td>\n",
        "      <td>  9</td>\n",
        "      <td> 0</td>\n",
        "      <td> 0</td>\n",
        "    </tr>\n",
        "    <tr>\n",
        "      <th>160</th>\n",
        "      <td>2014-03-20 19:17:44</td>\n",
        "      <td> 33.782350</td>\n",
        "      <td>-84.395601</td>\n",
        "      <td> 289.000000</td>\n",
        "      <td>  9</td>\n",
        "      <td> 0</td>\n",
        "      <td> 0</td>\n",
        "    </tr>\n",
        "    <tr>\n",
        "      <th>161</th>\n",
        "      <td>2014-03-20 19:17:46</td>\n",
        "      <td> 33.782351</td>\n",
        "      <td>-84.395598</td>\n",
        "      <td> 288.899994</td>\n",
        "      <td> 10</td>\n",
        "      <td> 0</td>\n",
        "      <td> 0</td>\n",
        "    </tr>\n",
        "    <tr>\n",
        "      <th>162</th>\n",
        "      <td>2014-03-20 19:17:48</td>\n",
        "      <td> 33.782351</td>\n",
        "      <td>-84.395599</td>\n",
        "      <td> 288.899994</td>\n",
        "      <td> 10</td>\n",
        "      <td> 0</td>\n",
        "      <td> 0</td>\n",
        "    </tr>\n",
        "    <tr>\n",
        "      <th>163</th>\n",
        "      <td>2014-03-20 19:17:49</td>\n",
        "      <td> 33.782351</td>\n",
        "      <td>-84.395599</td>\n",
        "      <td> 288.899994</td>\n",
        "      <td>  9</td>\n",
        "      <td> 0</td>\n",
        "      <td> 0</td>\n",
        "    </tr>\n",
        "  </tbody>\n",
        "</table>\n",
        "</div>"
       ],
       "metadata": {},
       "output_type": "pyout",
       "prompt_number": 21,
       "text": [
        "                   time        lat        lon   elevation  accuracy  bearing  \\\n",
        "159 2014-03-20 19:17:43  33.782348 -84.395602  289.000000         9        0   \n",
        "160 2014-03-20 19:17:44  33.782350 -84.395601  289.000000         9        0   \n",
        "161 2014-03-20 19:17:46  33.782351 -84.395598  288.899994        10        0   \n",
        "162 2014-03-20 19:17:48  33.782351 -84.395599  288.899994        10        0   \n",
        "163 2014-03-20 19:17:49  33.782351 -84.395599  288.899994         9        0   \n",
        "\n",
        "     speed  \n",
        "159      0  \n",
        "160      0  \n",
        "161      0  \n",
        "162      0  \n",
        "163      0  "
       ]
      }
     ],
     "prompt_number": 21
    },
    {
     "cell_type": "code",
     "collapsed": false,
     "input": [
      "df['time'][0]"
     ],
     "language": "python",
     "metadata": {},
     "outputs": [
      {
       "metadata": {},
       "output_type": "pyout",
       "prompt_number": 23,
       "text": [
        "Timestamp('2014-03-20 19:13:40', tz=None)"
       ]
      }
     ],
     "prompt_number": 23
    },
    {
     "cell_type": "code",
     "collapsed": false,
     "input": [],
     "language": "python",
     "metadata": {},
     "outputs": []
    }
   ],
   "metadata": {}
  }
 ]
}