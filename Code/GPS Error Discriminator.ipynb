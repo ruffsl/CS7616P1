{
 "metadata": {
  "name": ""
 },
 "nbformat": 3,
 "nbformat_minor": 0,
 "worksheets": [
  {
   "cells": [
    {
     "cell_type": "heading",
     "level": 1,
     "metadata": {},
     "source": [
      "GPS Error Discriminator"
     ]
    },
    {
     "cell_type": "markdown",
     "metadata": {},
     "source": [
      "By Ruffin White"
     ]
    },
    {
     "cell_type": "code",
     "collapsed": false,
     "input": [
      "import os\n",
      "import pandas as pd\n",
      "import skimage\n",
      "import matplotlib.pyplot as plt\n",
      "from skimage import filter, io\n",
      "import numpy as np\n",
      "from scipy.optimize import curve_fit"
     ],
     "language": "python",
     "metadata": {},
     "outputs": [],
     "prompt_number": 1
    },
    {
     "cell_type": "heading",
     "level": 2,
     "metadata": {},
     "source": [
      "Load Data"
     ]
    },
    {
     "cell_type": "code",
     "collapsed": false,
     "input": [
      "def findFiles(path,extension):\n",
      "    '''Return a list of all files with matching extension'''\n",
      "    os.chdir(path)\n",
      "    allFiles = os.listdir(\".\")\n",
      "    foundFiles = []\n",
      "    for file in allFiles:\n",
      "        if file.endswith(extension):\n",
      "            foundFiles.append(file)\n",
      "    foundFiles.sort()\n",
      "    return foundFiles\n",
      "\n",
      "def read_gps_file(f):\n",
      "    '''Read a dataframe from a file'''\n",
      "    df = pd.read_csv(f,index_col=0)\n",
      "    df['time'] = pd.to_datetime(df['time'])\n",
      "    return df\n",
      "\n",
      "def load_folder(path):\n",
      "    '''Read all data from a folder'''\n",
      "    files = findFiles(path,'.csv')\n",
      "    data = {}\n",
      "    for f in files:\n",
      "        name = os.path.splitext(os.path.basename(f))[0]\n",
      "        print name\n",
      "        df = read_gps_file(f)\n",
      "        data[name] = df\n",
      "#         break\n",
      "    return data"
     ],
     "language": "python",
     "metadata": {},
     "outputs": [],
     "prompt_number": 24
    },
    {
     "cell_type": "code",
     "collapsed": false,
     "input": [
      "path = '/home/rox/Documents/Code/GPS Data/'\n",
      "data = load_folder(path)"
     ],
     "language": "python",
     "metadata": {},
     "outputs": [
      {
       "output_type": "stream",
       "stream": "stdout",
       "text": [
        "20140320151334\n",
        "20140320152138\n",
        "20140320153142\n",
        "20140320154011\n",
        "20140320155028\n",
        "20140320160034\n",
        "20140320161001\n",
        "20140320161906\n",
        "20140322190215\n",
        "20140330133927"
       ]
      },
      {
       "output_type": "stream",
       "stream": "stdout",
       "text": [
        "\n",
        "20140330134656\n",
        "20140330135149\n",
        "20140330135710\n",
        "20140330140200\n",
        "20140330140937\n",
        "20140330141613\n",
        "20140330142423\n",
        "20140330143134\n",
        "20140330144358\n",
        "20140330145321\n",
        "20140330145946\n",
        "20140330150629\n",
        "20140330151602\n",
        "20140330152250\n",
        "20140330152736\n",
        "20140330171321\n",
        "20140330172900\n",
        "20140330173537\n",
        "20140330174226\n"
       ]
      }
     ],
     "prompt_number": 160
    },
    {
     "cell_type": "heading",
     "level": 2,
     "metadata": {},
     "source": [
      "Generate Features"
     ]
    },
    {
     "cell_type": "heading",
     "level": 3,
     "metadata": {},
     "source": [
      "GPS Features"
     ]
    },
    {
     "cell_type": "heading",
     "level": 3,
     "metadata": {},
     "source": [
      "Image Features"
     ]
    },
    {
     "cell_type": "heading",
     "level": 3,
     "metadata": {},
     "source": [
      "Data Wrangle"
     ]
    },
    {
     "cell_type": "code",
     "collapsed": false,
     "input": [
      "df_all = []\n",
      "for key, dff in data.items():\n",
      "    df = dff\n",
      "    df['labels'] = pd.Series([key]*df.shape[0])\n",
      "    df_all.append(df)\n",
      "\n",
      "df_all = pd.concat(df_all,ignore_index=True)"
     ],
     "language": "python",
     "metadata": {},
     "outputs": [],
     "prompt_number": 161
    },
    {
     "cell_type": "code",
     "collapsed": false,
     "input": [
      "df_all.head()"
     ],
     "language": "python",
     "metadata": {},
     "outputs": [
      {
       "html": [
        "<div style=\"max-height:1000px;max-width:1500px;overflow:auto;\">\n",
        "<table border=\"1\" class=\"dataframe\">\n",
        "  <thead>\n",
        "    <tr style=\"text-align: right;\">\n",
        "      <th></th>\n",
        "      <th>time</th>\n",
        "      <th>lat</th>\n",
        "      <th>lon</th>\n",
        "      <th>elevation</th>\n",
        "      <th>accuracy</th>\n",
        "      <th>bearing</th>\n",
        "      <th>speed</th>\n",
        "      <th>error</th>\n",
        "      <th>k_hed</th>\n",
        "      <th>k_hsv</th>\n",
        "      <th>ksd_hed</th>\n",
        "      <th>ksd_hsv</th>\n",
        "      <th>sky_hed</th>\n",
        "      <th>sky_hsv</th>\n",
        "      <th>x0_hed</th>\n",
        "      <th>x0_hsv</th>\n",
        "      <th>x0sd_hed</th>\n",
        "      <th>x0sd_hsv</th>\n",
        "      <th>labels</th>\n",
        "    </tr>\n",
        "  </thead>\n",
        "  <tbody>\n",
        "    <tr>\n",
        "      <th>0</th>\n",
        "      <td>2014-03-20 19:21:42</td>\n",
        "      <td> 33.781496</td>\n",
        "      <td>-84.396030</td>\n",
        "      <td> 290.899994</td>\n",
        "      <td> 43</td>\n",
        "      <td> 137.5</td>\n",
        "      <td> 0.25</td>\n",
        "      <td> 20.440902</td>\n",
        "      <td> 11.233437</td>\n",
        "      <td> 9.695735</td>\n",
        "      <td> 0.090143</td>\n",
        "      <td> 0.126714</td>\n",
        "      <td> 58.220917</td>\n",
        "      <td> 66.26275</td>\n",
        "      <td> 0.420241</td>\n",
        "      <td> 0.321266</td>\n",
        "      <td> 0.000809</td>\n",
        "      <td> 0.001492</td>\n",
        "      <td> 20140320152138</td>\n",
        "    </tr>\n",
        "    <tr>\n",
        "      <th>1</th>\n",
        "      <td>2014-03-20 19:21:43</td>\n",
        "      <td> 33.781536</td>\n",
        "      <td>-84.396058</td>\n",
        "      <td> 286.899994</td>\n",
        "      <td> 29</td>\n",
        "      <td> 137.5</td>\n",
        "      <td> 0.50</td>\n",
        "      <td> 16.673346</td>\n",
        "      <td> 11.233437</td>\n",
        "      <td> 9.695735</td>\n",
        "      <td> 0.090143</td>\n",
        "      <td> 0.126714</td>\n",
        "      <td> 58.220917</td>\n",
        "      <td> 66.26275</td>\n",
        "      <td> 0.420241</td>\n",
        "      <td> 0.321266</td>\n",
        "      <td> 0.000809</td>\n",
        "      <td> 0.001492</td>\n",
        "      <td> 20140320152138</td>\n",
        "    </tr>\n",
        "    <tr>\n",
        "      <th>2</th>\n",
        "      <td>2014-03-20 19:21:45</td>\n",
        "      <td> 33.781641</td>\n",
        "      <td>-84.396042</td>\n",
        "      <td> 296.399994</td>\n",
        "      <td> 19</td>\n",
        "      <td> 137.5</td>\n",
        "      <td> 0.25</td>\n",
        "      <td> 19.737899</td>\n",
        "      <td> 11.233437</td>\n",
        "      <td> 9.695735</td>\n",
        "      <td> 0.090143</td>\n",
        "      <td> 0.126714</td>\n",
        "      <td> 58.220917</td>\n",
        "      <td> 66.26275</td>\n",
        "      <td> 0.420241</td>\n",
        "      <td> 0.321266</td>\n",
        "      <td> 0.000809</td>\n",
        "      <td> 0.001492</td>\n",
        "      <td> 20140320152138</td>\n",
        "    </tr>\n",
        "    <tr>\n",
        "      <th>3</th>\n",
        "      <td>2014-03-20 19:21:47</td>\n",
        "      <td> 33.781573</td>\n",
        "      <td>-84.396149</td>\n",
        "      <td> 286.700012</td>\n",
        "      <td> 12</td>\n",
        "      <td>   0.0</td>\n",
        "      <td> 0.00</td>\n",
        "      <td>  7.997843</td>\n",
        "      <td> 11.233437</td>\n",
        "      <td> 9.695735</td>\n",
        "      <td> 0.090143</td>\n",
        "      <td> 0.126714</td>\n",
        "      <td> 58.220917</td>\n",
        "      <td> 66.26275</td>\n",
        "      <td> 0.420241</td>\n",
        "      <td> 0.321266</td>\n",
        "      <td> 0.000809</td>\n",
        "      <td> 0.001492</td>\n",
        "      <td> 20140320152138</td>\n",
        "    </tr>\n",
        "    <tr>\n",
        "      <th>4</th>\n",
        "      <td>2014-03-20 19:21:49</td>\n",
        "      <td> 33.781545</td>\n",
        "      <td>-84.396078</td>\n",
        "      <td> 286.600006</td>\n",
        "      <td>  7</td>\n",
        "      <td>   0.0</td>\n",
        "      <td> 0.00</td>\n",
        "      <td> 14.679557</td>\n",
        "      <td> 11.233437</td>\n",
        "      <td> 9.695735</td>\n",
        "      <td> 0.090143</td>\n",
        "      <td> 0.126714</td>\n",
        "      <td> 58.220917</td>\n",
        "      <td> 66.26275</td>\n",
        "      <td> 0.420241</td>\n",
        "      <td> 0.321266</td>\n",
        "      <td> 0.000809</td>\n",
        "      <td> 0.001492</td>\n",
        "      <td> 20140320152138</td>\n",
        "    </tr>\n",
        "  </tbody>\n",
        "</table>\n",
        "</div>"
       ],
       "metadata": {},
       "output_type": "pyout",
       "prompt_number": 162,
       "text": [
        "                 time        lat        lon   elevation  accuracy  bearing  \\\n",
        "0 2014-03-20 19:21:42  33.781496 -84.396030  290.899994        43    137.5   \n",
        "1 2014-03-20 19:21:43  33.781536 -84.396058  286.899994        29    137.5   \n",
        "2 2014-03-20 19:21:45  33.781641 -84.396042  296.399994        19    137.5   \n",
        "3 2014-03-20 19:21:47  33.781573 -84.396149  286.700012        12      0.0   \n",
        "4 2014-03-20 19:21:49  33.781545 -84.396078  286.600006         7      0.0   \n",
        "\n",
        "   speed      error      k_hed     k_hsv   ksd_hed   ksd_hsv    sky_hed  \\\n",
        "0   0.25  20.440902  11.233437  9.695735  0.090143  0.126714  58.220917   \n",
        "1   0.50  16.673346  11.233437  9.695735  0.090143  0.126714  58.220917   \n",
        "2   0.25  19.737899  11.233437  9.695735  0.090143  0.126714  58.220917   \n",
        "3   0.00   7.997843  11.233437  9.695735  0.090143  0.126714  58.220917   \n",
        "4   0.00  14.679557  11.233437  9.695735  0.090143  0.126714  58.220917   \n",
        "\n",
        "    sky_hsv    x0_hed    x0_hsv  x0sd_hed  x0sd_hsv          labels  \n",
        "0  66.26275  0.420241  0.321266  0.000809  0.001492  20140320152138  \n",
        "1  66.26275  0.420241  0.321266  0.000809  0.001492  20140320152138  \n",
        "2  66.26275  0.420241  0.321266  0.000809  0.001492  20140320152138  \n",
        "3  66.26275  0.420241  0.321266  0.000809  0.001492  20140320152138  \n",
        "4  66.26275  0.420241  0.321266  0.000809  0.001492  20140320152138  "
       ]
      }
     ],
     "prompt_number": 162
    },
    {
     "cell_type": "code",
     "collapsed": false,
     "input": [
      "df_all.plot(subplots=True, figsize=[20,60])"
     ],
     "language": "python",
     "metadata": {},
     "outputs": []
    },
    {
     "cell_type": "heading",
     "level": 2,
     "metadata": {},
     "source": [
      "Train Classifier"
     ]
    },
    {
     "cell_type": "code",
     "collapsed": false,
     "input": [
      "from sklearn import ensemble\n",
      "from sklearn import cross_validation\n",
      "from sklearn.cross_validation import LeaveOneLabelOut"
     ],
     "language": "python",
     "metadata": {},
     "outputs": [],
     "prompt_number": 154
    },
    {
     "cell_type": "code",
     "collapsed": false,
     "input": [
      "X_keys = ['accuracy',]\n",
      "#           'x0_hed',\n",
      "#           'x0_hsv', \n",
      "#           'x0sd_hed', \n",
      "#           'x0sd_hsv',\n",
      "#           'k_hed', \n",
      "#           'k_hsv', \n",
      "#           'ksd_hed', \n",
      "#           'ksd_hsv', \n",
      "#           'sky_hed' ]\n",
      "#           'sky_hsv']\n",
      "Y_keys = ['error']\n",
      "\n",
      "X = df_all[X_keys]\n",
      "X = np.array(X)\n",
      "\n",
      "Y = df_all[Y_keys]\n",
      "Y = np.array(Y).ravel()\n",
      "\n",
      "labels = df_all['labels']"
     ],
     "language": "python",
     "metadata": {},
     "outputs": [],
     "prompt_number": 182
    },
    {
     "cell_type": "code",
     "collapsed": false,
     "input": [
      "rfc = ensemble.RandomForestClassifier()"
     ],
     "language": "python",
     "metadata": {},
     "outputs": [],
     "prompt_number": 144
    },
    {
     "cell_type": "code",
     "collapsed": false,
     "input": [
      "scores = cross_validation.cross_val_score(rfc, X, Y<=5, cv=5)"
     ],
     "language": "python",
     "metadata": {},
     "outputs": [],
     "prompt_number": 145
    },
    {
     "cell_type": "code",
     "collapsed": false,
     "input": [
      "print \"Accuracy: %0.2f (+/- %0.2f)\" % (scores.mean(), scores.std() / 2)"
     ],
     "language": "python",
     "metadata": {},
     "outputs": [
      {
       "output_type": "stream",
       "stream": "stdout",
       "text": [
        "Accuracy: 0.88 (+/- 0.00)\n"
       ]
      }
     ],
     "prompt_number": 146
    },
    {
     "cell_type": "code",
     "collapsed": false,
     "input": [
      "plt.plot(scores)"
     ],
     "language": "python",
     "metadata": {},
     "outputs": [
      {
       "metadata": {},
       "output_type": "pyout",
       "prompt_number": 147,
       "text": [
        "[<matplotlib.lines.Line2D at 0x1ff3b090>]"
       ]
      },
      {
       "metadata": {},
       "output_type": "display_data",
       "png": "[encoded data removed]",
       "text": [
        "<matplotlib.figure.Figure at 0x1e384c90>"
       ]
      }
     ],
     "prompt_number": 147
    },
    {
     "cell_type": "code",
     "collapsed": false,
     "input": [
      "y = Y<=5\n",
      "lolo = LeaveOneLabelOut(labels)\n",
      "scores = np.array([])\n",
      "for train, test in lolo:\n",
      "    X_train, X_test, y_train, y_test = X[train], X[test], y[train], y[test]\n",
      "    rfc.fit(X_train,y_train)\n",
      "    score = rfc.score(X_test,y_test)\n",
      "    scores = np.append(scores,score)"
     ],
     "language": "python",
     "metadata": {},
     "outputs": [],
     "prompt_number": 183
    },
    {
     "cell_type": "code",
     "collapsed": false,
     "input": [
      "print \"Accuracy: %0.2f (+/- %0.2f)\" % (scores.mean(), scores.std() / 2)"
     ],
     "language": "python",
     "metadata": {},
     "outputs": [
      {
       "output_type": "stream",
       "stream": "stdout",
       "text": [
        "Accuracy: 0.70 (+/- 0.18)\n"
       ]
      }
     ],
     "prompt_number": 184
    },
    {
     "cell_type": "code",
     "collapsed": false,
     "input": [
      "plt.plot(scores)"
     ],
     "language": "python",
     "metadata": {},
     "outputs": [
      {
       "metadata": {},
       "output_type": "pyout",
       "prompt_number": 185,
       "text": [
        "[<matplotlib.lines.Line2D at 0x218b9750>]"
       ]
      },
      {
       "metadata": {},
       "output_type": "display_data",
       "png": "[encoded data removed]",
       "text": [
        "<matplotlib.figure.Figure at 0x205c4a50>"
       ]
      }
     ],
     "prompt_number": 185
    },
    {
     "cell_type": "heading",
     "level": 2,
     "metadata": {},
     "source": [
      "Test Predictions"
     ]
    },
    {
     "cell_type": "code",
     "collapsed": false,
     "input": [],
     "language": "python",
     "metadata": {},
     "outputs": []
    }
   ],
   "metadata": {}
  }
 ]
}